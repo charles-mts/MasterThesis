{
 "cells": [
  {
   "cell_type": "markdown",
   "id": "7cea3a88-0bf8-418a-8b08-ffd7c9952924",
   "metadata": {},
   "source": [
    "# Proposed modification"
   ]
  },
  {
   "cell_type": "code",
   "execution_count": 1,
   "id": "105ee8ee-1321-404d-92d1-51d75e7f77ea",
   "metadata": {},
   "outputs": [],
   "source": [
    "import numpy as np\n",
    "import matplotlib.pyplot as plt\n",
    "import tikzplotlib as tk\n",
    "import pandas as pd\n",
    "from statsmodels.distributions.empirical_distribution import ECDF\n",
    "\n",
    "\n",
    "from scipy.stats import ks_2samp\n",
    "from scipy.special import kl_div\n",
    "import scipy.stats as sc\n",
    "\n",
    "import warnings\n",
    "warnings.filterwarnings(\"ignore\")\n"
   ]
  },
  {
   "cell_type": "markdown",
   "id": "089cb056-6a7a-4d8d-b5ce-e3284db5aeea",
   "metadata": {},
   "source": [
    "---\n",
    "### 1. Parameters"
   ]
  },
  {
   "cell_type": "code",
   "execution_count": 2,
   "id": "d7d6a81a-c4e0-4f81-9635-71fecb55dac9",
   "metadata": {},
   "outputs": [],
   "source": [
    "Niter = int(1e6)\n",
    "a0 = 2\n",
    "var = .8\n",
    "z0 = 1\n",
    "\n",
    "eps = 1e-1\n",
    "eta = 0.05"
   ]
  },
  {
   "cell_type": "markdown",
   "id": "25818efc-c912-4e54-8280-8d4a33ba3cb1",
   "metadata": {},
   "source": [
    "----\n",
    "### 2. Simulation "
   ]
  },
  {
   "cell_type": "code",
   "execution_count": 3,
   "id": "5ad20f66-da95-4e80-8f41-6e3b80a3328a",
   "metadata": {},
   "outputs": [],
   "source": [
    "def controller(t,c,z,eps,eta):\n",
    "    if np.abs(z[t+1]/z[t])<eps:\n",
    "        return c[t]+z[t+1]/z[t]\n",
    "    if np.abs(z[t+1]/z[t])>=eps:\n",
    "        return c[t] + eta*np.sign(z[t+1]/z[t])"
   ]
  },
  {
   "cell_type": "code",
   "execution_count": 4,
   "id": "1ab6716e-fead-46f5-ae81-97c1f138ac7e",
   "metadata": {},
   "outputs": [],
   "source": [
    "beta = np.random.randn(Niter)\n",
    "beta = np.sqrt(var)*beta\n",
    "\n",
    "zt = np.zeros(Niter)\n",
    "zt[0] = z0\n",
    "zt[1] = a0*zt[0] + beta[0]\n",
    "\n",
    "ct = np.zeros(Niter)\n",
    "ct[0] = 0\n",
    "ct[1] = 0 + zt[1]/zt[0] \n",
    "zt[2] = (a0-ct[1])*zt[1]+beta[1]\n",
    "ct[2] = controller(1,ct,zt,eps,eta)\n",
    "\n",
    "for t in range(2,Niter-1): \n",
    "    zt[t+1] = (a0-ct[t])*zt[t] + beta[t]\n",
    "    ct[t+1] = controller(t,ct,zt,eps,eta) \n",
    "    \n",
    "np.savetxt(\"Data/nc.csv\",zt, delimiter=\" \")"
   ]
  },
  {
   "cell_type": "code",
   "execution_count": 5,
   "id": "a7de1cf3-14b2-4015-8ef0-4cd09e8620a1",
   "metadata": {},
   "outputs": [
    {
     "name": "stdout",
     "output_type": "stream",
     "text": [
      "0.001195583939945955 0.8336656094951852\n"
     ]
    }
   ],
   "source": [
    "print(np.mean(zt),np.var(zt))"
   ]
  },
  {
   "cell_type": "code",
   "execution_count": 6,
   "id": "1d8edcc8-5a5d-463d-9674-28903e5b5dc4",
   "metadata": {},
   "outputs": [
    {
     "data": {
      "text/plain": [
       "[<matplotlib.lines.Line2D at 0x120b7cca0>]"
      ]
     },
     "execution_count": 6,
     "metadata": {},
     "output_type": "execute_result"
    },
    {
     "data": {
      "image/png": "[encoded data removed]",
      "text/plain": [
       "<Figure size 432x288 with 1 Axes>"
      ]
     },
     "metadata": {
      "needs_background": "light"
     },
     "output_type": "display_data"
    }
   ],
   "source": [
    "plt.plot(zt)"
   ]
  },
  {
   "cell_type": "code",
   "execution_count": null,
   "id": "ea4cf2be-48b5-475e-b7a0-718c3524d50d",
   "metadata": {},
   "outputs": [],
   "source": []
  }
 ],
 "metadata": {
  "kernelspec": {
   "display_name": "Python 3",
   "language": "python",
   "name": "python3"
  },
  "language_info": {
   "codemirror_mode": {
    "name": "ipython",
    "version": 3
   },
   "file_extension": ".py",
   "mimetype": "text/x-python",
   "name": "python",
   "nbconvert_exporter": "python",
   "pygments_lexer": "ipython3",
   "version": "3.9.5"
  }
 },
 "nbformat": 4,
 "nbformat_minor": 5
}
